{
 "cells": [
  {
   "cell_type": "code",
   "execution_count": 1,
   "metadata": {},
   "outputs": [],
   "source": [
    "# 1)determine if a given number is even or odd.and\n",
    "def num(n):\n",
    "    if(n%2)==0:\n",
    "        print(n, \"is an even number.\")\n",
    "    else:\n",
    "        print(n, \"is odd number.\") "
   ]
  },
  {
   "cell_type": "code",
   "execution_count": 8,
   "metadata": {},
   "outputs": [
    {
     "name": "stdout",
     "output_type": "stream",
     "text": [
      "5 is odd number.\n"
     ]
    }
   ],
   "source": [
    "num(5)"
   ]
  },
  {
   "cell_type": "code",
   "execution_count": 22,
   "metadata": {},
   "outputs": [],
   "source": [
    "# 2)check if a given number is a prime number.\n",
    "def num(n):\n",
    "    if n == 0 or n == 1:\n",
    "        print(n,\" is not a prime.\")\n",
    "    else:\n",
    "        for i in range (2,n):\n",
    "            if n%i == 0:\n",
    "                print(n, \"is not prime number.\")\n",
    "                break\n",
    "        else:\n",
    "            print(n,\"is a prime number.\")\n",
    "  "
   ]
  },
  {
   "cell_type": "code",
   "execution_count": 26,
   "metadata": {},
   "outputs": [
    {
     "name": "stdout",
     "output_type": "stream",
     "text": [
      "3 is a prime number.\n"
     ]
    }
   ],
   "source": [
    "num(3)  "
   ]
  },
  {
   "cell_type": "code",
   "execution_count": 27,
   "metadata": {},
   "outputs": [],
   "source": [
    "# 3) find the sum of all numbers in the list.\n",
    "list1 = [2,3,4,5]\n",
    "sum=0\n",
    "for i in range(0,4):  #len(list1)=4\n",
    "    sum += list1[i]"
   ]
  },
  {
   "cell_type": "code",
   "execution_count": 28,
   "metadata": {},
   "outputs": [
    {
     "name": "stdout",
     "output_type": "stream",
     "text": [
      "14 is the sum of the list\n"
     ]
    }
   ],
   "source": [
    "print(sum, \"is the sum of the list\")"
   ]
  },
  {
   "cell_type": "code",
   "execution_count": 31,
   "metadata": {},
   "outputs": [],
   "source": [
    "# 4) find the factorial of a given number.\n",
    "n = int(input(\"Enter any number:\"))\n",
    "fact = 1\n",
    "for i in range (1, n+1):\n",
    "    fact *= i"
   ]
  },
  {
   "cell_type": "code",
   "execution_count": 32,
   "metadata": {},
   "outputs": [
    {
     "name": "stdout",
     "output_type": "stream",
     "text": [
      "The factoria of  3 is 6\n"
     ]
    }
   ],
   "source": [
    "print (\"The factoria of \", n , \"is\", fact)"
   ]
  },
  {
   "cell_type": "code",
   "execution_count": 33,
   "metadata": {},
   "outputs": [],
   "source": [
    "# 5)Find the max of a given list.\n",
    "list2 = [3,4,5,6,10]\n",
    "max = list2[0]\n",
    "for i in list2:\n",
    "    if i>max:\n",
    "        max = i"
   ]
  },
  {
   "cell_type": "code",
   "execution_count": 34,
   "metadata": {},
   "outputs": [
    {
     "name": "stdout",
     "output_type": "stream",
     "text": [
      "Max: 10\n"
     ]
    }
   ],
   "source": [
    "print(\"Max:\", max)"
   ]
  },
  {
   "cell_type": "code",
   "execution_count": 35,
   "metadata": {},
   "outputs": [],
   "source": [
    "# 6) Generate the first n numbers in the fibonacci sequence (o,1,1,2,3,5,8,......)\n",
    "def fib():\n",
    "    n = int(input(\"Enter a number:\"))\n",
    "    a = 0\n",
    "    b = 1\n",
    "    print(a)\n",
    "    print(b)\n",
    "    for i in range(2,n):\n",
    "        c = a + b\n",
    "        a = b\n",
    "        b = c\n",
    "        print(c)\n"
   ]
  },
  {
   "cell_type": "code",
   "execution_count": 37,
   "metadata": {},
   "outputs": [
    {
     "name": "stdout",
     "output_type": "stream",
     "text": [
      "0\n",
      "1\n"
     ]
    }
   ],
   "source": [
    "fib()"
   ]
  },
  {
   "cell_type": "code",
   "execution_count": 38,
   "metadata": {},
   "outputs": [],
   "source": [
    "# 7)Reverse a given string.\n",
    "name = (\"try it out\")\n",
    "str1 = \"\"\n",
    "for i in name:\n",
    "    str1 = i + str1"
   ]
  },
  {
   "cell_type": "code",
   "execution_count": 39,
   "metadata": {},
   "outputs": [
    {
     "name": "stdout",
     "output_type": "stream",
     "text": [
      "Reversed_string  tuo ti yrt\n"
     ]
    }
   ],
   "source": [
    "print(\"Reversed_string \", str1)"
   ]
  },
  {
   "cell_type": "code",
   "execution_count": 120,
   "metadata": {},
   "outputs": [],
   "source": [
    "# 8) Find GCD of two given numbers using Euclid algorithm.\n",
    "a = int(input(\"Enter a number:\"))\n",
    "b = int(input(\"Enter a number:\"))\n",
    "while a%b !=0:\n",
    "    r = a%b\n",
    "    a = b\n",
    "    b = r"
   ]
  },
  {
   "cell_type": "code",
   "execution_count": 122,
   "metadata": {},
   "outputs": [
    {
     "name": "stdout",
     "output_type": "stream",
     "text": [
      "GCD: 1\n"
     ]
    }
   ],
   "source": [
    "GCD = b\n",
    "print(\"GCD:\", b)"
   ]
  },
  {
   "cell_type": "code",
   "execution_count": 42,
   "metadata": {},
   "outputs": [],
   "source": [
    "# 9) Calculate the average of numbers in a given list.\n",
    "list1 = [1,2,3,4,5]\n",
    "sum = 0\n",
    "i = 0\n",
    "while i < 5:  # len(list1) = 5\n",
    "    sum += list1[i]\n",
    "    i += 1"
   ]
  },
  {
   "cell_type": "code",
   "execution_count": 43,
   "metadata": {},
   "outputs": [
    {
     "name": "stdout",
     "output_type": "stream",
     "text": [
      "AVG: 3.0\n"
     ]
    }
   ],
   "source": [
    "print(\"AVG:\", sum/len(list1))"
   ]
  },
  {
   "cell_type": "code",
   "execution_count": 44,
   "metadata": {},
   "outputs": [],
   "source": [
    "# 10) count numbers of vowels in a given string.\n",
    "str = \"hello python crash course\"\n",
    "vowels = \"aAeEIioOuU\"\n",
    "count = 0\n",
    "for i in str:\n",
    "    if i in vowels:\n",
    "        count += 1"
   ]
  },
  {
   "cell_type": "code",
   "execution_count": 45,
   "metadata": {},
   "outputs": [
    {
     "name": "stdout",
     "output_type": "stream",
     "text": [
      "the  number of vowels in a string is 7\n"
     ]
    }
   ],
   "source": [
    "print(\"the  number of vowels in a string is\", count)"
   ]
  },
  {
   "cell_type": "code",
   "execution_count": 51,
   "metadata": {},
   "outputs": [],
   "source": [
    "# 1) convert a temperature from celcius to fahreneit.\n",
    "c = int(input(\"enter a temperature i n celcius:\"))\n",
    "f = 9/5 *c +32"
   ]
  },
  {
   "cell_type": "code",
   "execution_count": 52,
   "metadata": {},
   "outputs": [
    {
     "name": "stdout",
     "output_type": "stream",
     "text": [
      "The temperature in feranite is 46.4\n"
     ]
    }
   ],
   "source": [
    "print(\"The temperature in feranite is\", f)"
   ]
  },
  {
   "cell_type": "code",
   "execution_count": 46,
   "metadata": {},
   "outputs": [
    {
     "name": "stdout",
     "output_type": "stream",
     "text": [
      "the string is not palindrome\n"
     ]
    }
   ],
   "source": [
    "# 2) Check if a given number is a palindrome.\n",
    "str1 = input(\"Enter any string:\")\n",
    "reversed_string = str1[::-1]\n",
    "if str1 == reversed_string:\n",
    "    print(\"the string is palindrome.\")\n",
    "else:\n",
    "    print(\"the string is not palindrome\")\n",
    "\n",
    "\n",
    " "
   ]
  },
  {
   "cell_type": "code",
   "execution_count": 55,
   "metadata": {},
   "outputs": [],
   "source": [
    "# 3) calculate the power of a number given the base and exponent.\n",
    "def power(b,e):\n",
    "    prod = 1\n",
    "    for i in range(0,e):\n",
    "        prod *=b\n",
    "        print(\"the power of a number is \", prod)"
   ]
  },
  {
   "cell_type": "code",
   "execution_count": 56,
   "metadata": {},
   "outputs": [
    {
     "name": "stdout",
     "output_type": "stream",
     "text": [
      "the power of a number is  2\n",
      "the power of a number is  4\n",
      "the power of a number is  8\n"
     ]
    }
   ],
   "source": [
    "power(2,3)"
   ]
  },
  {
   "cell_type": "code",
   "execution_count": 58,
   "metadata": {},
   "outputs": [],
   "source": [
    "# 4) Find the smallest number in a given list of numbers.\n",
    "list2 = [6,7,8,4,2,10]\n",
    "smallest_number = list2[0]\n",
    "for i in list2:\n",
    "    if i  < smallest_number:\n",
    "        smallest_number = i"
   ]
  },
  {
   "cell_type": "code",
   "execution_count": 59,
   "metadata": {},
   "outputs": [
    {
     "name": "stdout",
     "output_type": "stream",
     "text": [
      "the smallest number is  2\n"
     ]
    }
   ],
   "source": [
    "print(\"the smallest number is \", smallest_number)"
   ]
  },
  {
   "cell_type": "code",
   "execution_count": 74,
   "metadata": {},
   "outputs": [],
   "source": [
    "# 5) count the number of consonants in  agiven string.\n",
    "str1 = input(\"Enter a string:\")\n",
    "count = 0\n",
    "vowels = \"AaeEiIoOuU\"\n",
    "for i in str1:\n",
    "    if i not in vowels:\n",
    "        count += 1"
   ]
  },
  {
   "cell_type": "code",
   "execution_count": 75,
   "metadata": {},
   "outputs": [
    {
     "name": "stdout",
     "output_type": "stream",
     "text": [
      "the number of consonants in a string is 2\n"
     ]
    }
   ],
   "source": [
    "print(\"the number of consonants in a string is\", count)"
   ]
  },
  {
   "cell_type": "code",
   "execution_count": 123,
   "metadata": {},
   "outputs": [],
   "source": [
    "# conditional statement\n",
    "# 1) check if a number is positive.\n",
    "def num(n):\n",
    "    if n > 0:\n",
    "        print(n,\"is positive.\")\n",
    "    else:\n",
    "        print(n,\"is not positive\")"
   ]
  },
  {
   "cell_type": "code",
   "execution_count": 124,
   "metadata": {},
   "outputs": [
    {
     "name": "stdout",
     "output_type": "stream",
     "text": [
      "-4 is not positive\n"
     ]
    }
   ],
   "source": [
    "num(-4)"
   ]
  },
  {
   "cell_type": "code",
   "execution_count": 76,
   "metadata": {},
   "outputs": [],
   "source": [
    "# 2) check if a first number is divisible by a second number.\n",
    "def num(a,b):\n",
    "    if (a%b) == 0:\n",
    "        print(a,\" is divisible by \", b)\n",
    "    else:\n",
    "        print(a,\" is not divisible by \", b)"
   ]
  },
  {
   "cell_type": "code",
   "execution_count": 77,
   "metadata": {},
   "outputs": [
    {
     "name": "stdout",
     "output_type": "stream",
     "text": [
      "4  is divisible by  2\n"
     ]
    }
   ],
   "source": [
    "num(4,2)"
   ]
  },
  {
   "cell_type": "code",
   "execution_count": 79,
   "metadata": {},
   "outputs": [
    {
     "name": "stdout",
     "output_type": "stream",
     "text": [
      "e is vowel.\n",
      "o is vowel.\n"
     ]
    }
   ],
   "source": [
    "#3) determine if a character in a string is vowel.\n",
    "str1 = input(\"Enter a string:\")\n",
    "vowels = \"AaEeIiOoUu\"\n",
    "for i in str1:\n",
    "    if i in vowels:\n",
    "        print(i, \"is vowel.\")\n",
    "    else:\n",
    "        continue"
   ]
  },
  {
   "cell_type": "code",
   "execution_count": 80,
   "metadata": {},
   "outputs": [],
   "source": [
    "# 4) check if a number is even or odd.\n",
    "def num(m):\n",
    "    if (m%2) == 0:\n",
    "        print(m, \"is an even number.\")\n",
    "    else:\n",
    "        print(m, \"is odd number.\")"
   ]
  },
  {
   "cell_type": "code",
   "execution_count": 81,
   "metadata": {},
   "outputs": [
    {
     "name": "stdout",
     "output_type": "stream",
     "text": [
      "7 is odd number.\n"
     ]
    }
   ],
   "source": [
    "num(7)"
   ]
  },
  {
   "cell_type": "code",
   "execution_count": 82,
   "metadata": {},
   "outputs": [],
   "source": [
    "# 5) determine if a person is eligible to vote (age 18 or older).\n",
    "def age(n):\n",
    "    if n >= 18:\n",
    "        print(\"The person is eligible to vote.\")\n",
    "    else:\n",
    "        print(\"The person is not eligible to vote.\")"
   ]
  },
  {
   "cell_type": "code",
   "execution_count": 83,
   "metadata": {},
   "outputs": [
    {
     "name": "stdout",
     "output_type": "stream",
     "text": [
      "The person is eligible to vote.\n"
     ]
    }
   ],
   "source": [
    "age(77)"
   ]
  },
  {
   "cell_type": "code",
   "execution_count": 85,
   "metadata": {},
   "outputs": [],
   "source": [
    "# chained conditionals\n",
    "# 1) classify a number as positive , negative , or zero.\n",
    "def num(n):\n",
    "    if n > 0:\n",
    "        print(n, \"is positive.\")\n",
    "    elif n < 0:\n",
    "        print(n, \"is negative.\" )\n",
    "    else:\n",
    "        print(n, \"is zero\")"
   ]
  },
  {
   "cell_type": "code",
   "execution_count": 86,
   "metadata": {},
   "outputs": [
    {
     "name": "stdout",
     "output_type": "stream",
     "text": [
      "10 is positive.\n"
     ]
    }
   ],
   "source": [
    "num(10)"
   ]
  },
  {
   "cell_type": "code",
   "execution_count": 108,
   "metadata": {},
   "outputs": [],
   "source": [
    "# 2) detrmine the grade of a student based on their score.\n",
    "def grade(n):\n",
    "    if n >= 90 and n <= 100:\n",
    "        print(\"A\")\n",
    "    elif n >= 80 and n < 90:\n",
    "        print(\"B\")\n",
    "    elif n >= 70 and n < 80:\n",
    "        print(\"C\")\n",
    "    elif n >=60 and n < 70:\n",
    "        print(\"D\")\n",
    "    else:\n",
    "        print(\"F\")"
   ]
  },
  {
   "cell_type": "code",
   "execution_count": 109,
   "metadata": {},
   "outputs": [
    {
     "name": "stdout",
     "output_type": "stream",
     "text": [
      "D\n"
     ]
    }
   ],
   "source": [
    "grade(67)"
   ]
  },
  {
   "cell_type": "code",
   "execution_count": 103,
   "metadata": {},
   "outputs": [],
   "source": [
    "# nested conditionals \n",
    "# 1) write a program to detrmine if a given year is leap year.\n",
    "def is_leap_year(year):\n",
    "    if year % 4 == 0:\n",
    "        if year % 100 == 0:\n",
    "            if year % 400 == 0:\n",
    "                return True\n",
    "            else:\n",
    "                return False\n",
    "        else:\n",
    "            return True\n",
    "    else:\n",
    "        return False\n",
    "    "
   ]
  },
  {
   "cell_type": "code",
   "execution_count": 107,
   "metadata": {},
   "outputs": [
    {
     "name": "stdout",
     "output_type": "stream",
     "text": [
      "800 is a leap year.\n",
      "800 is a leap year.\n"
     ]
    }
   ],
   "source": [
    "year(800)"
   ]
  },
  {
   "cell_type": "code",
   "execution_count": 111,
   "metadata": {},
   "outputs": [],
   "source": [
    "# 2) check if a point (x,y) lies in the first ,secon third or fourth quadrant system.\n",
    "def point(x , y):\n",
    "    if x > 0 and y > 0:\n",
    "        print(\"The first quadrant.\")\n",
    "    elif x < 0 and y > 0:\n",
    "        print(\"the second quadrant.\")\n",
    "    elif x < 0 and y < 0:\n",
    "        print(\"The third quadrant.\")\n",
    "    else:\n",
    "        print(\"the fourth quadrant.\")"
   ]
  },
  {
   "cell_type": "code",
   "execution_count": 112,
   "metadata": {},
   "outputs": [
    {
     "name": "stdout",
     "output_type": "stream",
     "text": [
      "the second quadrant.\n"
     ]
    }
   ],
   "source": [
    "point(-3,5)"
   ]
  },
  {
   "cell_type": "code",
   "execution_count": 113,
   "metadata": {},
   "outputs": [
    {
     "name": "stdout",
     "output_type": "stream",
     "text": [
      "1\n",
      "2\n",
      "3\n",
      "4\n",
      "5\n",
      "6\n",
      "7\n",
      "8\n",
      "9\n",
      "10\n"
     ]
    }
   ],
   "source": [
    "# for loops\n",
    "# 1) print the first 10 natural numbrs.\n",
    "for i in range(1,11):\n",
    "    print(i)"
   ]
  },
  {
   "cell_type": "code",
   "execution_count": 114,
   "metadata": {},
   "outputs": [],
   "source": [
    "# 2) calculate the sum of all elements in a list.\n",
    "list1 = [10,3,4,5]\n",
    "sum = 0\n",
    "for i in range(0,4): #len(list1) = 4\n",
    "    sum += list1[i]"
   ]
  },
  {
   "cell_type": "code",
   "execution_count": 115,
   "metadata": {},
   "outputs": [
    {
     "name": "stdout",
     "output_type": "stream",
     "text": [
      "The sum is  22\n"
     ]
    }
   ],
   "source": [
    "print(\"The sum is \", sum)"
   ]
  },
  {
   "cell_type": "code",
   "execution_count": 89,
   "metadata": {},
   "outputs": [
    {
     "name": "stdout",
     "output_type": "stream",
     "text": [
      "h\n",
      "e\n",
      "l\n",
      "l\n",
      "o\n"
     ]
    }
   ],
   "source": [
    "# 3) print each character of a string on a new line.\n",
    "str1 = input(\"Enter string:\")\n",
    "for i in str1:\n",
    "    print(i)"
   ]
  },
  {
   "cell_type": "code",
   "execution_count": 116,
   "metadata": {},
   "outputs": [],
   "source": [
    "# 4)find the factorial of a given number.\n",
    "n = int(input(\"Enter any number:\"))\n",
    "fact = 1\n",
    "for i in range (1, n+1):\n",
    "    fact *= i"
   ]
  },
  {
   "cell_type": "code",
   "execution_count": 117,
   "metadata": {},
   "outputs": [
    {
     "name": "stdout",
     "output_type": "stream",
     "text": [
      "The factoria of  7 is 5040\n"
     ]
    }
   ],
   "source": [
    "print (\"The factoria of \", n , \"is\", fact) "
   ]
  },
  {
   "cell_type": "code",
   "execution_count": 97,
   "metadata": {},
   "outputs": [
    {
     "name": "stdout",
     "output_type": "stream",
     "text": [
      "1\n",
      "2\n",
      "3\n",
      "4\n",
      "5\n",
      "6\n",
      "7\n",
      "8\n",
      "9\n",
      "10\n"
     ]
    }
   ],
   "source": [
    "#while loop\n",
    "# 1) print numbers from 1 to 10.\n",
    "i = 0\n",
    "while i < 10:\n",
    "    i +=1\n",
    "    print(i)"
   ]
  },
  {
   "cell_type": "code",
   "execution_count": 119,
   "metadata": {},
   "outputs": [
    {
     "name": "stdout",
     "output_type": "stream",
     "text": [
      "g\n",
      "h\n",
      "n\n",
      "m\\\n",
      "m\n",
      "j\n",
      "j\n",
      "exit\n"
     ]
    }
   ],
   "source": [
    "# 2) keep accepting user input until they enter 'exit'.\n",
    "mesage = (\"enter what you want or 'exit'\")\n",
    "str = \"\"\n",
    "while str != 'exit':\n",
    "    str = input(mesage)\n",
    "    print(str)"
   ]
  },
  {
   "cell_type": "code",
   "execution_count": null,
   "metadata": {},
   "outputs": [],
   "source": [
    "#3). Calculate the sum of digits of a given number.\n"
   ]
  },
  {
   "cell_type": "code",
   "execution_count": 176,
   "metadata": {},
   "outputs": [],
   "source": [
    "#4. Find the greatest common divisor (GCD) of two numbers.\n",
    "def num(a,b):\n",
    "    while a%b !=0:\n",
    "        r = a%b\n",
    "        a = b\n",
    "        b = r\n",
    "    gcd = b"
   ]
  },
  {
   "cell_type": "code",
   "execution_count": 174,
   "metadata": {},
   "outputs": [
    {
     "name": "stdout",
     "output_type": "stream",
     "text": [
      "None\n"
     ]
    }
   ],
   "source": [
    "GCD=num(3,9)\n",
    "print(GCD)\n"
   ]
  },
  {
   "cell_type": "code",
   "execution_count": 178,
   "metadata": {},
   "outputs": [
    {
     "name": "stdout",
     "output_type": "stream",
     "text": [
      "10\n",
      "9\n",
      "8\n",
      "7\n",
      "6\n",
      "5\n",
      "4\n",
      "3\n",
      "2\n",
      "1\n",
      "0\n"
     ]
    }
   ],
   "source": [
    "i=11\n",
    "while 0<i:\n",
    "    i -=1\n",
    "    print(i)"
   ]
  }
 ],
 "metadata": {
  "kernelspec": {
   "display_name": "Python 3",
   "language": "python",
   "name": "python3"
  },
  "language_info": {
   "codemirror_mode": {
    "name": "ipython",
    "version": 3
   },
   "file_extension": ".py",
   "mimetype": "text/x-python",
   "name": "python",
   "nbconvert_exporter": "python",
   "pygments_lexer": "ipython3",
   "version": "3.11.9"
  }
 },
 "nbformat": 4,
 "nbformat_minor": 2
}
